{
 "cells": [
  {
   "cell_type": "code",
   "execution_count": 33,
   "metadata": {},
   "outputs": [],
   "source": [
    "import networkx as nx\n",
    "import numpy as np\n",
    "import random as rd\n",
    "from operator import itemgetter\n"
   ]
  },
  {
   "cell_type": "code",
   "execution_count": 46,
   "metadata": {},
   "outputs": [],
   "source": [
    "def prob_gen(probability):\n",
    "    return rd.random() < probability"
   ]
  },
  {
   "cell_type": "code",
   "execution_count": 47,
   "metadata": {},
   "outputs": [],
   "source": [
    "def gen_SW(n, k, p):\n",
    "    \"\"\"\n",
    "    Creates a Watts-Strogatz small work graph\n",
    "    \n",
    "    Arguments:\n",
    "        n - number of nodes\n",
    "        k - number of adjacent connections\n",
    "        p - probability of rewiring\n",
    "        \n",
    "    Returns:\n",
    "        created plain graph with input parameter characteristics\n",
    "    \"\"\"\n",
    "    graph = nx.connected_watts_strogatz_graph(n, k, p)\n",
    "    return graph"
   ]
  },
  {
   "cell_type": "code",
   "execution_count": 48,
   "metadata": {},
   "outputs": [],
   "source": [
    "def initalize_graph(graph, attrib, init_value):\n",
    "    \"\"\"\n",
    "    Initialises input graph with initial attribute values\n",
    "    \n",
    "    Arguments:\n",
    "        graph - initial input to be initialised\n",
    "        attrib - name of node attribute to be created\n",
    "        init_value - initial value of node attribute for all nodes\n",
    "        \n",
    "    Returns:\n",
    "        nothing, initialisation works in place\n",
    "    \"\"\"\n",
    "    nodes_total = list(graph.nodes)\n",
    "    for each_node in nodes_total:\n",
    "        graph.nodes[each_node][attrib] = init_value\n",
    "    return"
   ]
  },
  {
   "cell_type": "code",
   "execution_count": 49,
   "metadata": {},
   "outputs": [],
   "source": [
    "def count_attrib_val(graph: nx.graph, attrib: str, value: str) -> int:\n",
    "    \"\"\"\n",
    "    Counts the number of nodes in the graph with a certain attribute value\n",
    "    \n",
    "    Arguments:\n",
    "        graph - the graph being measured\n",
    "        attrib - the attribute of the node to be checked\n",
    "        value - the value of the attribute wanting to be counted\n",
    "        \n",
    "    Returns:\n",
    "        integer count of nodes with value\n",
    "    \"\"\"\n",
    "    nodes = graph.nodes(data=attrib)\n",
    "    # nodes uses a tuple with each node having a number and state\n",
    "    states = list(map(itemgetter(1), nodes))\n",
    "    count = states.count(value)\n",
    "    return count"
   ]
  },
  {
   "cell_type": "code",
   "execution_count": 58,
   "metadata": {},
   "outputs": [],
   "source": [
    "def find_nodes_with_attribute_value(graph, node_list, attr, value):\n",
    "    \"\"\"\n",
    "    Function to return list of nodes that have a specific attribute value\n",
    "    \n",
    "    Arguments:\n",
    "        graph - the graph in question\n",
    "        node_list - list of nodes in the graph\n",
    "        attr - attribute in question\n",
    "        value - value of attribute searching for\n",
    "        \n",
    "    Returns:\n",
    "        value_list - list of nodes with a certain attribute value\n",
    "    \"\"\"\n",
    "    # use list of nodes to create new list with nodes of certain attribute values\n",
    "    value_list = [each_node for each_node in node_list if graph.nodes[each_node][attr] == value]\n",
    "    return value_list"
   ]
  },
  {
   "cell_type": "code",
   "execution_count": 59,
   "metadata": {},
   "outputs": [],
   "source": [
    "def initialize_additional_state(graph, number, attribute, initial_value, final_value):\n",
    "    \"\"\"\n",
    "    Function to initialize a certain attribute value to a random subset\n",
    "    of nodes which already have an specified value\n",
    "    \n",
    "    Arguments:\n",
    "        graph - graph in question\n",
    "        number - number of nodes to be initialized\n",
    "        initial_value - value of attribute to be found in order to be converted\n",
    "        final_value - value node attributes will be converted to\n",
    "        \n",
    "    Returns:\n",
    "        nothing, in place\n",
    "    \"\"\"\n",
    "    nodes = list(graph.nodes)\n",
    "    nodes = find_nodes_with_attribute_value(graph, nodes, attribute, initial_value)\n",
    "    selected_nodes = rd.sample(nodes, number)\n",
    "    for each_node in selected_nodes:\n",
    "        graph.nodes[each_node][attribute] = final_value\n",
    "    return"
   ]
  },
  {
   "cell_type": "code",
   "execution_count": 63,
   "metadata": {},
   "outputs": [],
   "source": [
    "n = 100\n",
    "k = 10\n",
    "p = 0.1\n",
    "\n",
    "attribute = \"state\"\n",
    "initial_state = \"S\"\n",
    "final_state = \"I\"\n",
    "\n",
    "G = gen_SW(n=n, k=k, p=p)\n",
    "\n",
    "initalize_graph(graph=G, attrib=attribute, init_value=initial_state)\n",
    "\n",
    "initialize_additional_state(G, number=10, attribute=attribute, initial_value=\"S\", final_value=final_state)\n",
    "\n",
    "n_init = count_attrib_val(graph=G, attrib=attribute, value=initial_state)\n",
    "n_final = count_attrib_val(graph=G, attrib=attribute, value=final_state)\n"
   ]
  },
  {
   "cell_type": "code",
   "execution_count": 64,
   "metadata": {},
   "outputs": [
    {
     "data": {
      "text/plain": [
       "90"
      ]
     },
     "execution_count": 64,
     "metadata": {},
     "output_type": "execute_result"
    }
   ],
   "source": [
    "n_init"
   ]
  },
  {
   "cell_type": "code",
   "execution_count": 65,
   "metadata": {},
   "outputs": [
    {
     "data": {
      "text/plain": [
       "10"
      ]
     },
     "execution_count": 65,
     "metadata": {},
     "output_type": "execute_result"
    }
   ],
   "source": [
    "n_final"
   ]
  },
  {
   "cell_type": "code",
   "execution_count": null,
   "metadata": {},
   "outputs": [],
   "source": []
  }
 ],
 "metadata": {
  "kernelspec": {
   "display_name": "Python 3",
   "language": "python",
   "name": "python3"
  },
  "language_info": {
   "codemirror_mode": {
    "name": "ipython",
    "version": 3
   },
   "file_extension": ".py",
   "mimetype": "text/x-python",
   "name": "python",
   "nbconvert_exporter": "python",
   "pygments_lexer": "ipython3",
   "version": "3.7.0"
  }
 },
 "nbformat": 4,
 "nbformat_minor": 2
}
